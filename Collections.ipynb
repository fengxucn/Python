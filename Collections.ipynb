{
 "cells": [
  {
   "cell_type": "code",
   "execution_count": 7,
   "metadata": {},
   "outputs": [
    {
     "name": "stdout",
     "output_type": "stream",
     "text": [
      "[3, 1, 2, 5, 3, 12, 10, 23, 45, 15]\n",
      "15\n",
      "[3, 1, 2, 5, 3, 12, 10, 23, 45]\n"
     ]
    }
   ],
   "source": [
    "array = [3,1,2,5,3,12,10,23,45,15]\n",
    "\n",
    "print(array)\n",
    "\n",
    "print(array.pop())\n",
    "\n",
    "print(array)"
   ]
  },
  {
   "cell_type": "code",
   "execution_count": 17,
   "metadata": {},
   "outputs": [
    {
     "name": "stdout",
     "output_type": "stream",
     "text": [
      "ChainMap({'art': 'van gogh', 'opera': 'carmen'}, {'music': 'bach', 'art': 'rembrandt'})\n",
      "{'music': 'bach', 'art': 'van gogh', 'opera': 'carmen'}\n"
     ]
    }
   ],
   "source": [
    "from collections import ChainMap\n",
    "baseline = {'music': 'bach', 'art': 'rembrandt'}\n",
    "adjustments = {'art': 'van gogh', 'opera': 'carmen'}\n",
    "print(ChainMap(adjustments, baseline))\n",
    "\n",
    "combined = baseline.copy()\n",
    "combined.update(adjustments)\n",
    "print(combined)"
   ]
  },
  {
   "cell_type": "code",
   "execution_count": 22,
   "metadata": {},
   "outputs": [
    {
     "name": "stderr",
     "output_type": "stream",
     "text": [
      "usage: ipykernel_launcher.py [-h] [-u USER] [-c COLOR]\n",
      "ipykernel_launcher.py: error: unrecognized arguments: -f /Users/fengxu/Library/Jupyter/runtime/kernel-be6dc2b2-18e2-48dc-a7d5-d05c43f7c372.json\n"
     ]
    },
    {
     "ename": "SystemExit",
     "evalue": "2",
     "output_type": "error",
     "traceback": [
      "An exception has occurred, use %tb to see the full traceback.\n",
      "\u001b[0;31mSystemExit\u001b[0m\u001b[0;31m:\u001b[0m 2\n"
     ]
    },
    {
     "name": "stderr",
     "output_type": "stream",
     "text": [
      "/Library/Frameworks/Python.framework/Versions/3.5/lib/python3.5/site-packages/IPython/core/interactiveshell.py:2918: UserWarning: To exit: use 'exit', 'quit', or Ctrl-D.\n",
      "  warn(\"To exit: use 'exit', 'quit', or Ctrl-D.\", stacklevel=1)\n"
     ]
    }
   ],
   "source": [
    "import os, argparse\n",
    "\n",
    "defaults = {'color': 'red', 'user': 'guest'}\n",
    "\n",
    "parser = argparse.ArgumentParser()\n",
    "parser.add_argument('-u', '--user')\n",
    "parser.add_argument('-c', '--color')\n",
    "namespace = parser.parse_args()\n",
    "command_line_args = {k:v for k, v in vars(namespace).items() if v}\n",
    "\n",
    "combined = ChainMap(command_line_args, os.environ, defaults)\n",
    "print(combined['color'])\n",
    "print(combined['user'])"
   ]
  },
  {
   "cell_type": "code",
   "execution_count": null,
   "metadata": {},
   "outputs": [],
   "source": []
  }
 ],
 "metadata": {
  "kernelspec": {
   "display_name": "Python 3",
   "language": "python",
   "name": "python3"
  },
  "language_info": {
   "codemirror_mode": {
    "name": "ipython",
    "version": 3
   },
   "file_extension": ".py",
   "mimetype": "text/x-python",
   "name": "python",
   "nbconvert_exporter": "python",
   "pygments_lexer": "ipython3",
   "version": "3.5.4"
  }
 },
 "nbformat": 4,
 "nbformat_minor": 2
}
