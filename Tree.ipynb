{
 "cells": [
  {
   "cell_type": "code",
   "execution_count": 59,
   "metadata": {},
   "outputs": [],
   "source": [
    "class Node:\n",
    "    def __init__(self, data, left=None, right=None):\n",
    "        self.data = data\n",
    "        self.left  = left\n",
    "        self.right = right\n",
    "\n",
    "    def __str__(self):\n",
    "        return str(self.data)\n",
    "    \n",
    "    def __hash__(self):\n",
    "        return self.data\n",
    "    \n",
    "    def __eq__(self, other):# For x == y\n",
    "        if not isinstance(other, self.__class__):\n",
    "            raise Exception('{} is not instance of {}'.format(other, self.__class__))\n",
    "        return isinstance(other, self.__class__) and self.data == other.data\n",
    "    \n",
    "    def __ne__(self, other):# For x != y OR x <> y\n",
    "        if not isinstance(other, self.__class__):\n",
    "            raise Exception('{} is not instance of {}'.format(other, self.__class__))\n",
    "        return not self.__eq__(other)\n",
    "    \n",
    "    def __lt__(self, other): # For x < y\n",
    "        if not isinstance(other, self.__class__):\n",
    "            raise Exception('{} is not instance of {}'.format(other, self.__class__))\n",
    "        self.data < other.data\n",
    "    def __le__(self, other): # For x <= y\n",
    "        if not isinstance(other, self.__class__):\n",
    "            raise Exception('{} is not instance of {}'.format(other, self.__class__))\n",
    "        self.data <= other.data\n",
    "    def __gt__(self, other): # For x > y\n",
    "        if not isinstance(other, self.__class__):\n",
    "            raise Exception('{} is not instance of {}'.format(other, self.__class__))\n",
    "        self.data > other.data\n",
    "    def __ge__(self, other): # For x >= y\n",
    "        if not isinstance(other, self.__class__):\n",
    "            raise Exception('{} is not instance of {}'.format(other, self.__class__))\n",
    "        self.data >= other.data\n",
    "\n",
    "def print_tree(tree):\n",
    "    if tree == None: return\n",
    "    print(tree)\n",
    "    print_tree(tree.left)\n",
    "    print_tree(tree.right)"
   ]
  },
  {
   "cell_type": "code",
   "execution_count": 60,
   "metadata": {},
   "outputs": [
    {
     "name": "stdout",
     "output_type": "stream",
     "text": [
      "True\n",
      "False\n",
      "4\n"
     ]
    },
    {
     "ename": "Exception",
     "evalue": "[<__main__.Node object at 0x106660d30>, <__main__.Node object at 0x106660b38>, <__main__.Node object at 0x106660f28>] is not instance of <class '__main__.Node'>",
     "output_type": "error",
     "traceback": [
      "\u001b[0;31m---------------------------------------------------------------------------\u001b[0m",
      "\u001b[0;31mException\u001b[0m                                 Traceback (most recent call last)",
      "\u001b[0;32m<ipython-input-60-a920a979ff22>\u001b[0m in \u001b[0;36m<module>\u001b[0;34m()\u001b[0m\n\u001b[1;32m     12\u001b[0m \u001b[0marray\u001b[0m\u001b[0;34m.\u001b[0m\u001b[0msort\u001b[0m\u001b[0;34m(\u001b[0m\u001b[0;34m)\u001b[0m\u001b[0;34m\u001b[0m\u001b[0m\n\u001b[1;32m     13\u001b[0m \u001b[0;34m\u001b[0m\u001b[0m\n\u001b[0;32m---> 14\u001b[0;31m \u001b[0mprint\u001b[0m\u001b[0;34m(\u001b[0m\u001b[0mtree\u001b[0m \u001b[0;34m==\u001b[0m \u001b[0marray\u001b[0m\u001b[0;34m)\u001b[0m\u001b[0;34m\u001b[0m\u001b[0m\n\u001b[0m\u001b[1;32m     15\u001b[0m \u001b[0;34m\u001b[0m\u001b[0m\n\u001b[1;32m     16\u001b[0m \u001b[0marray1\u001b[0m \u001b[0;34m=\u001b[0m \u001b[0msorted\u001b[0m\u001b[0;34m(\u001b[0m\u001b[0marray\u001b[0m\u001b[0;34m,\u001b[0m \u001b[0mkey\u001b[0m\u001b[0;34m=\u001b[0m\u001b[0;32mlambda\u001b[0m \u001b[0mnode\u001b[0m\u001b[0;34m:\u001b[0m \u001b[0mnode\u001b[0m\u001b[0;34m.\u001b[0m\u001b[0mdata\u001b[0m\u001b[0;34m,\u001b[0m \u001b[0mreverse\u001b[0m\u001b[0;34m=\u001b[0m\u001b[0;32mTrue\u001b[0m\u001b[0;34m)\u001b[0m\u001b[0;34m\u001b[0m\u001b[0m\n",
      "\u001b[0;32m<ipython-input-59-765ed68fed5c>\u001b[0m in \u001b[0;36m__eq__\u001b[0;34m(self, other)\u001b[0m\n\u001b[1;32m     13\u001b[0m     \u001b[0;32mdef\u001b[0m \u001b[0m__eq__\u001b[0m\u001b[0;34m(\u001b[0m\u001b[0mself\u001b[0m\u001b[0;34m,\u001b[0m \u001b[0mother\u001b[0m\u001b[0;34m)\u001b[0m\u001b[0;34m:\u001b[0m\u001b[0;31m# For x == y\u001b[0m\u001b[0;34m\u001b[0m\u001b[0m\n\u001b[1;32m     14\u001b[0m         \u001b[0;32mif\u001b[0m \u001b[0;32mnot\u001b[0m \u001b[0misinstance\u001b[0m\u001b[0;34m(\u001b[0m\u001b[0mother\u001b[0m\u001b[0;34m,\u001b[0m \u001b[0mself\u001b[0m\u001b[0;34m.\u001b[0m\u001b[0m__class__\u001b[0m\u001b[0;34m)\u001b[0m\u001b[0;34m:\u001b[0m\u001b[0;34m\u001b[0m\u001b[0m\n\u001b[0;32m---> 15\u001b[0;31m             \u001b[0;32mraise\u001b[0m \u001b[0mException\u001b[0m\u001b[0;34m(\u001b[0m\u001b[0;34m'{} is not instance of {}'\u001b[0m\u001b[0;34m.\u001b[0m\u001b[0mformat\u001b[0m\u001b[0;34m(\u001b[0m\u001b[0mother\u001b[0m\u001b[0;34m,\u001b[0m \u001b[0mself\u001b[0m\u001b[0;34m.\u001b[0m\u001b[0m__class__\u001b[0m\u001b[0;34m)\u001b[0m\u001b[0;34m)\u001b[0m\u001b[0;34m\u001b[0m\u001b[0m\n\u001b[0m\u001b[1;32m     16\u001b[0m         \u001b[0;32mreturn\u001b[0m \u001b[0misinstance\u001b[0m\u001b[0;34m(\u001b[0m\u001b[0mother\u001b[0m\u001b[0;34m,\u001b[0m \u001b[0mself\u001b[0m\u001b[0;34m.\u001b[0m\u001b[0m__class__\u001b[0m\u001b[0;34m)\u001b[0m \u001b[0;32mand\u001b[0m \u001b[0mself\u001b[0m\u001b[0;34m.\u001b[0m\u001b[0mdata\u001b[0m \u001b[0;34m==\u001b[0m \u001b[0mother\u001b[0m\u001b[0;34m.\u001b[0m\u001b[0mdata\u001b[0m\u001b[0;34m\u001b[0m\u001b[0m\n\u001b[1;32m     17\u001b[0m \u001b[0;34m\u001b[0m\u001b[0m\n",
      "\u001b[0;31mException\u001b[0m: [<__main__.Node object at 0x106660d30>, <__main__.Node object at 0x106660b38>, <__main__.Node object at 0x106660f28>] is not instance of <class '__main__.Node'>"
     ]
    }
   ],
   "source": [
    "tree = Node(3)\n",
    "tree3 = Node(3)\n",
    "tree4 = Node(4)\n",
    "\n",
    "\n",
    "print(tree == tree3)\n",
    "print(tree == tree4)\n",
    "tree.left = Node(4)\n",
    "print(tree.left)\n",
    "\n",
    "array = [Node(4), Node(3), Node(5)]\n",
    "array.sort()\n",
    "\n",
    "print(tree == array)\n",
    "\n",
    "array1 = sorted(array, key=lambda node: node.data, reverse=True)\n",
    "print(array1[0])\n",
    "\n",
    "from operator import itemgetter, attrgetter, methodcaller\n",
    "sorted(array, key=attrgetter('data'), reverse=True)\n",
    "#sorted(array, key=itemgetter(0), reverse=True)\n",
    "#sorted(array, key=methodcaller('data'), reverse=True)"
   ]
  },
  {
   "cell_type": "code",
   "execution_count": null,
   "metadata": {},
   "outputs": [],
   "source": []
  }
 ],
 "metadata": {
  "kernelspec": {
   "display_name": "Python 3",
   "language": "python",
   "name": "python3"
  },
  "language_info": {
   "codemirror_mode": {
    "name": "ipython",
    "version": 3
   },
   "file_extension": ".py",
   "mimetype": "text/x-python",
   "name": "python",
   "nbconvert_exporter": "python",
   "pygments_lexer": "ipython3",
   "version": "3.5.4"
  }
 },
 "nbformat": 4,
 "nbformat_minor": 2
}
