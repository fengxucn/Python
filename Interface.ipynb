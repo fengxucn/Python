{
 "cells": [
  {
   "cell_type": "code",
   "execution_count": 9,
   "metadata": {},
   "outputs": [
    {
     "name": "stdout",
     "output_type": "stream",
     "text": [
      "True\n",
      "True\n",
      "True\n"
     ]
    }
   ],
   "source": [
    "import abc\n",
    "\n",
    "class Bird(abc.ABC):\n",
    "    @abc.abstractmethod\n",
    "    def fly(self):\n",
    "        pass\n",
    "    \n",
    "class Parrot(Bird):\n",
    "    def fly(self):\n",
    "        print(\"Flying\")\n",
    "\n",
    "\n",
    "p = Parrot()\n",
    "\n",
    "print(isinstance(p, Bird))\n",
    "\n",
    "@Bird.register#We can also register a class as a virtual subclass of an ABC\n",
    "class Robin:\n",
    "    pass\n",
    "\n",
    "r = Robin()\n",
    "print(issubclass(Robin, Bird))\n",
    "print(isinstance(r, Bird))"
   ]
  },
  {
   "cell_type": "code",
   "execution_count": 4,
   "metadata": {},
   "outputs": [],
   "source": [
    "class Aeroplane(abc.ABC):\n",
    "    @abc.abstractmethod\n",
    "    def fly(self):\n",
    "        pass\n",
    "\n",
    "\n",
    "class Boeing(Aeroplane):\n",
    "    def fly(self):\n",
    "        print(\"Flying!\")\n",
    "\n",
    "b = Boeing()"
   ]
  },
  {
   "cell_type": "code",
   "execution_count": 6,
   "metadata": {},
   "outputs": [
    {
     "data": {
      "text/plain": [
       "False"
      ]
     },
     "execution_count": 6,
     "metadata": {},
     "output_type": "execute_result"
    }
   ],
   "source": [
    "isinstance(p, Aeroplane)\n",
    "isinstance(b, Bird)"
   ]
  },
  {
   "cell_type": "code",
   "execution_count": null,
   "metadata": {},
   "outputs": [],
   "source": []
  }
 ],
 "metadata": {
  "kernelspec": {
   "display_name": "Python 3",
   "language": "python",
   "name": "python3"
  },
  "language_info": {
   "codemirror_mode": {
    "name": "ipython",
    "version": 3
   },
   "file_extension": ".py",
   "mimetype": "text/x-python",
   "name": "python",
   "nbconvert_exporter": "python",
   "pygments_lexer": "ipython3",
   "version": "3.5.4"
  }
 },
 "nbformat": 4,
 "nbformat_minor": 2
}
