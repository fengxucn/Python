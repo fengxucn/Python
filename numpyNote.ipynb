{
 "cells": [
  {
   "cell_type": "code",
   "execution_count": 98,
   "metadata": {},
   "outputs": [],
   "source": [
    "import numpy as np\n",
    "import pandas as pd\n",
    "from numpy import pi\n",
    "from numpy import newaxis"
   ]
  },
  {
   "cell_type": "code",
   "execution_count": 55,
   "metadata": {},
   "outputs": [],
   "source": [
    "a = np.arange(15).reshape(3, 5)\n",
    "a3 = np.arange(24).reshape(2,3,4)# 3d array\n",
    "b = np.array([6, 7, 8])\n",
    "c = np.array([(1.5,2,3), (4,5,6)])\n",
    "d = np.array( [ [1,2], [3,4] ], dtype=complex )\n",
    "zero = np.zeros( (3,4) )\n",
    "ones = np.ones( (2,3,4), dtype=np.int16 )\n",
    "random = np.random.random((2,3))\n",
    "random1 = np.floor(10*np.random.random((3,4))) # 0 to 10 random number\n",
    "empty = np.empty( (2,3) )\n",
    "step = np.arange( 10, 30, 5 )#start end step\n",
    "stepFloat = np.arange( 0, 2, 0.3 ) \n",
    "fix = np.linspace( 0, 2, 9 )#start end size\n",
    "\n",
    "\n",
    "x = np.linspace( 0, 2*pi, 100 )        # useful to evaluate function at lots of points\n",
    "f = np.sin(x)"
   ]
  },
  {
   "cell_type": "code",
   "execution_count": 34,
   "metadata": {},
   "outputs": [
    {
     "name": "stdout",
     "output_type": "stream",
     "text": [
      "shape is (3, 5)\n",
      "2\n",
      "int64\n",
      "item size is 8\n",
      "size: 15\n",
      "type is: complex128\n"
     ]
    },
    {
     "data": {
      "text/plain": [
       "array([  0.00000000e+00,   6.34239197e-02,   1.26592454e-01,\n",
       "         1.89251244e-01,   2.51147987e-01,   3.12033446e-01,\n",
       "         3.71662456e-01,   4.29794912e-01,   4.86196736e-01,\n",
       "         5.40640817e-01,   5.92907929e-01,   6.42787610e-01,\n",
       "         6.90079011e-01,   7.34591709e-01,   7.76146464e-01,\n",
       "         8.14575952e-01,   8.49725430e-01,   8.81453363e-01,\n",
       "         9.09631995e-01,   9.34147860e-01,   9.54902241e-01,\n",
       "         9.71811568e-01,   9.84807753e-01,   9.93838464e-01,\n",
       "         9.98867339e-01,   9.99874128e-01,   9.96854776e-01,\n",
       "         9.89821442e-01,   9.78802446e-01,   9.63842159e-01,\n",
       "         9.45000819e-01,   9.22354294e-01,   8.95993774e-01,\n",
       "         8.66025404e-01,   8.32569855e-01,   7.95761841e-01,\n",
       "         7.55749574e-01,   7.12694171e-01,   6.66769001e-01,\n",
       "         6.18158986e-01,   5.67059864e-01,   5.13677392e-01,\n",
       "         4.58226522e-01,   4.00930535e-01,   3.42020143e-01,\n",
       "         2.81732557e-01,   2.20310533e-01,   1.58001396e-01,\n",
       "         9.50560433e-02,   3.17279335e-02,  -3.17279335e-02,\n",
       "        -9.50560433e-02,  -1.58001396e-01,  -2.20310533e-01,\n",
       "        -2.81732557e-01,  -3.42020143e-01,  -4.00930535e-01,\n",
       "        -4.58226522e-01,  -5.13677392e-01,  -5.67059864e-01,\n",
       "        -6.18158986e-01,  -6.66769001e-01,  -7.12694171e-01,\n",
       "        -7.55749574e-01,  -7.95761841e-01,  -8.32569855e-01,\n",
       "        -8.66025404e-01,  -8.95993774e-01,  -9.22354294e-01,\n",
       "        -9.45000819e-01,  -9.63842159e-01,  -9.78802446e-01,\n",
       "        -9.89821442e-01,  -9.96854776e-01,  -9.99874128e-01,\n",
       "        -9.98867339e-01,  -9.93838464e-01,  -9.84807753e-01,\n",
       "        -9.71811568e-01,  -9.54902241e-01,  -9.34147860e-01,\n",
       "        -9.09631995e-01,  -8.81453363e-01,  -8.49725430e-01,\n",
       "        -8.14575952e-01,  -7.76146464e-01,  -7.34591709e-01,\n",
       "        -6.90079011e-01,  -6.42787610e-01,  -5.92907929e-01,\n",
       "        -5.40640817e-01,  -4.86196736e-01,  -4.29794912e-01,\n",
       "        -3.71662456e-01,  -3.12033446e-01,  -2.51147987e-01,\n",
       "        -1.89251244e-01,  -1.26592454e-01,  -6.34239197e-02,\n",
       "        -2.44929360e-16])"
      ]
     },
     "execution_count": 34,
     "metadata": {},
     "output_type": "execute_result"
    }
   ],
   "source": [
    "print(\"shape is {}\".format(a.shape))\n",
    "print(a.ndim)\n",
    "print(a.dtype.name)\n",
    "print(\"item size is {}\".format(a.itemsize))\n",
    "print(\"size: {}\".format(a.size))\n",
    "print(\"type is: {}\".format(d.dtype))\n",
    "fix\n",
    "f"
   ]
  },
  {
   "cell_type": "code",
   "execution_count": 42,
   "metadata": {},
   "outputs": [
    {
     "data": {
      "text/plain": [
       "array([ True,  True, False, False], dtype=bool)"
      ]
     },
     "execution_count": 42,
     "metadata": {},
     "output_type": "execute_result"
    }
   ],
   "source": [
    "#Basic Operations\n",
    "a = np.array( [20,30,40,50] )\n",
    "b = np.arange( 4 )\n",
    "a-b\n",
    "b**2\n",
    "a*b\n",
    "10*np.sin(a)\n",
    "a<35"
   ]
  },
  {
   "cell_type": "code",
   "execution_count": 102,
   "metadata": {},
   "outputs": [
    {
     "name": "stdout",
     "output_type": "stream",
     "text": [
      "elementwise product:\n",
      "[[2 0]\n",
      " [0 4]]\n",
      "matrix product:\n",
      "[[5 4]\n",
      " [3 4]]\n",
      "matrix product:\n",
      "[[5 4]\n",
      " [3 4]]\n",
      "Cross product:\n",
      "[-2 -3]\n"
     ]
    }
   ],
   "source": [
    "A = np.array( [[1,1],\n",
    "               [0,1]] )\n",
    "B = np.array( [[2,0],\n",
    "               [3,4]] )\n",
    "print(\"elementwise product:\\n{}\".format(A * B))                       # elementwise product\n",
    "print(\"matrix product:\\n{}\".format(A @ B))                      # matrix product\n",
    "print(\"matrix product:\\n{}\".format(A.dot(B)))                      # another matrix product\n",
    "print(\"Cross product:\\n{}\".format(np.cross(A,B))) "
   ]
  },
  {
   "cell_type": "code",
   "execution_count": 61,
   "metadata": {},
   "outputs": [
    {
     "data": {
      "text/plain": [
       "array([[ 0.88731714+0.46115972j,  0.82836810+0.56018415j,\n",
       "         0.98868964+0.14997596j],\n",
       "       [ 0.99992176+0.01250924j,  0.61229001+0.79063325j,\n",
       "         0.98310911+0.18302045j]])"
      ]
     },
     "execution_count": 61,
     "metadata": {},
     "output_type": "execute_result"
    }
   ],
   "source": [
    "a = np.random.random((2,3))\n",
    "a.sum()\n",
    "a.min()\n",
    "a.max()\n",
    "np.exp(a*1j)"
   ]
  },
  {
   "cell_type": "code",
   "execution_count": 70,
   "metadata": {},
   "outputs": [
    {
     "name": "stdout",
     "output_type": "stream",
     "text": [
      "[[ 0  1  2  3]\n",
      " [ 4  5  6  7]\n",
      " [ 8  9 10 11]]\n"
     ]
    },
    {
     "data": {
      "text/plain": [
       "array([ 0,  1,  3,  6, 10, 15, 21, 28, 36, 45, 55, 66])"
      ]
     },
     "execution_count": 70,
     "metadata": {},
     "output_type": "execute_result"
    }
   ],
   "source": [
    "b = np.arange(12).reshape(3,4)\n",
    "print(b)\n",
    "b.sum(axis = 1) #axis = 0 means column, axis = 1 means row\n",
    "b.min(axis=1)\n",
    "b.cumsum(axis=0) # cumulative sum along each row\n",
    "\n",
    "a = np.arange(12) #1D array\n",
    "a.cumsum()"
   ]
  },
  {
   "cell_type": "code",
   "execution_count": 76,
   "metadata": {},
   "outputs": [
    {
     "data": {
      "text/plain": [
       "array([ 2.,  0.,  6.])"
      ]
     },
     "execution_count": 76,
     "metadata": {},
     "output_type": "execute_result"
    }
   ],
   "source": [
    "#Universal Functions\n",
    "#all, any, apply_along_axis, argmax, argmin, argsort, average, bincount, \n",
    "#ceil, clip, conj, corrcoef, cov, cross, cumprod, cumsum, diff, dot, floor, \n",
    "#inner, inv, lexsort, max, maximum, mean, median, min, minimum, nonzero, \n",
    "#outer, prod, re, round, sort, std, sum, trace, transpose, var, vdot, vectorize, where\n",
    "B = np.arange(3)\n",
    "np.exp(B)\n",
    "np.sqrt(B)\n",
    "C = np.array([2., -1., 4.])\n",
    "np.add(B, C)"
   ]
  },
  {
   "cell_type": "code",
   "execution_count": 89,
   "metadata": {},
   "outputs": [
    {
     "name": "stdout",
     "output_type": "stream",
     "text": [
      "[-1000     1 -1000    27 -1000   125   216   343   512   729]\n",
      "[  729   512   343   216   125 -1000    27 -1000     1 -1000]\n",
      "[-1000     1 -1000    27 -1000   125   216   343   512   729]\n",
      "[-1000     1 -1000    27 -1000   125   216   343   512   729]\n"
     ]
    }
   ],
   "source": [
    "#Indexing, Slicing and Iterating\n",
    "a = np.arange(10)**3\n",
    "a[:6:2] = -1000    # equivalent to a[0:6:2] = -1000; from start to position 6, exclusive, set every 2nd element to -1000\n",
    "print(a)\n",
    "print(a[ : :-1])                                 # reversed a\n",
    "print(a)"
   ]
  },
  {
   "cell_type": "code",
   "execution_count": 95,
   "metadata": {},
   "outputs": [
    {
     "name": "stdout",
     "output_type": "stream",
     "text": [
      "[[ 0  1  2  3]\n",
      " [10 11 12 13]\n",
      " [20 21 22 23]\n",
      " [30 31 32 33]\n",
      " [40 41 42 43]]\n",
      "[[ 0 10 20 30 40]\n",
      " [ 1 11 21 31 41]\n",
      " [ 2 12 22 32 42]\n",
      " [ 3 13 23 33 43]]\n",
      "[ 0  1  2  3 10 11 12 13 20 21 22 23 30 31 32 33 40 41 42 43]\n"
     ]
    }
   ],
   "source": [
    "def f(x,y):\n",
    "    return 10*x+y\n",
    "b = np.fromfunction(f,(5,4),dtype=int) #f(x,y) x and y are index, f(1,1) means cell 1,1\n",
    "print(b)\n",
    "print(b.T)  # returns the array, transposed\n",
    "print(b.ravel())  # returns the array, flattened\n",
    "b.resize((2,6))#The reshape function returns its argument with a modified shape, whereas the ndarray.resize method modifies the array itself"
   ]
  },
  {
   "cell_type": "code",
   "execution_count": 100,
   "metadata": {},
   "outputs": [
    {
     "name": "stdout",
     "output_type": "stream",
     "text": [
      "[[ 3.  3.]\n",
      " [ 9.  0.]\n",
      " [ 8.  3.]\n",
      " [ 6.  2.]]\n",
      "[[ 3.  3.  8.  3.]\n",
      " [ 9.  0.  6.  2.]]\n",
      "[[ 3.  3.  8.  3.]\n",
      " [ 9.  0.  6.  2.]]\n",
      "[[ 3.  3.]\n",
      " [ 9.  0.]\n",
      " [ 8.  3.]\n",
      " [ 6.  2.]]\n"
     ]
    }
   ],
   "source": [
    "#Stacking together different arrays\n",
    "a = np.floor(10*np.random.random((2,2)))\n",
    "b = np.floor(10*np.random.random((2,2)))\n",
    "print(np.vstack((a,b)))\n",
    "print(np.hstack((a,b)))\n",
    "print(np.column_stack((a,b)))\n",
    "print(np.row_stack((a,b)))"
   ]
  },
  {
   "cell_type": "code",
   "execution_count": null,
   "metadata": {},
   "outputs": [],
   "source": []
  }
 ],
 "metadata": {
  "celltoolbar": "Slideshow",
  "kernelspec": {
   "display_name": "Python 3",
   "language": "python",
   "name": "python3"
  },
  "language_info": {
   "codemirror_mode": {
    "name": "ipython",
    "version": 3
   },
   "file_extension": ".py",
   "mimetype": "text/x-python",
   "name": "python",
   "nbconvert_exporter": "python",
   "pygments_lexer": "ipython3",
   "version": "3.5.4"
  }
 },
 "nbformat": 4,
 "nbformat_minor": 2
}
